{
 "cells": [
  {
   "cell_type": "code",
   "execution_count": 4,
   "metadata": {},
   "outputs": [
    {
     "name": "stdout",
     "output_type": "stream",
     "text": [
      "Enter num 1 : 6546\n",
      "Enter num 2 : sdzkjnc\n",
      "LOL Forever\n",
      "I'm Thanos\n"
     ]
    }
   ],
   "source": [
    "try:\n",
    "    a = int(input(\"Enter num 1 : \"))\n",
    "    b = int(input(\"Enter num 2 : \"))\n",
    "    res = a/b\n",
    "    print(res)\n",
    "except ZeroDivisionError:\n",
    "    print(\"LOL\")\n",
    "except TypeError:\n",
    "    print(\"LOL again\")\n",
    "except:\n",
    "    print(\"LOL Forever\")\n",
    "finally:\n",
    "    print(\"I'm Thanos\")"
   ]
  },
  {
   "cell_type": "code",
   "execution_count": null,
   "metadata": {},
   "outputs": [],
   "source": []
  }
 ],
 "metadata": {
  "kernelspec": {
   "display_name": "Python 3",
   "language": "python",
   "name": "python3"
  },
  "language_info": {
   "codemirror_mode": {
    "name": "ipython",
    "version": 3
   },
   "file_extension": ".py",
   "mimetype": "text/x-python",
   "name": "python",
   "nbconvert_exporter": "python",
   "pygments_lexer": "ipython3",
   "version": "3.7.1"
  }
 },
 "nbformat": 4,
 "nbformat_minor": 2
}
